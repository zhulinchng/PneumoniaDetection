{
 "cells": [
  {
   "attachments": {},
   "cell_type": "markdown",
   "metadata": {},
   "source": [
    "# Model testing"
   ]
  },
  {
   "attachments": {},
   "cell_type": "markdown",
   "metadata": {},
   "source": [
    "### Load the CNN Model"
   ]
  },
  {
   "cell_type": "code",
   "execution_count": null,
   "metadata": {},
   "outputs": [],
   "source": [
    "from keras.models import load_model \n",
    "\n",
    "model = load_model('xray_model.h5')"
   ]
  },
  {
   "attachments": {},
   "cell_type": "markdown",
   "metadata": {},
   "source": [
    "### Test the CNN Model\n",
    "Use the test dataset after the final tuning to obtain the maximum test accuracy"
   ]
  },
  {
   "cell_type": "code",
   "execution_count": null,
   "metadata": {},
   "outputs": [],
   "source": [
    "import numpy as np \n",
    "from keras.utils import load_img,img_to_array\n",
    "\n",
    "image1 = load_img('./data/testing1.jpeg',target_size =(224,224), color_mode=\"grayscale\")\n",
    "image2 = load_img('./data/testing2.jpeg',target_size =(224,224), color_mode=\"grayscale\")"
   ]
  },
  {
   "cell_type": "code",
   "execution_count": null,
   "metadata": {},
   "outputs": [],
   "source": [
    "label_mapping = [\"normal\", \"Pneumonia\"]\n",
    "\n",
    "def prediction(image): \n",
    "    input_arr = img_to_array(image)\n",
    "    input_arr = np.array([input_arr])  # Convert single image to a batch.\n",
    "    result = model.predict(input_arr)\n",
    "    print(result) \n",
    "    class_index = np.argmax(result)  \n",
    "    class_label = label_mapping[class_index]  \n",
    "    print('Predicted class label:', class_label)"
   ]
  },
  {
   "cell_type": "code",
   "execution_count": null,
   "metadata": {},
   "outputs": [],
   "source": [
    "prediction(image1)\n",
    "prediction(image2)"
   ]
  }
 ],
 "metadata": {
  "language_info": {
   "name": "python"
  },
  "orig_nbformat": 4
 },
 "nbformat": 4,
 "nbformat_minor": 2
}

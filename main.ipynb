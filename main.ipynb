{
 "cells": [
  {
   "attachments": {},
   "cell_type": "markdown",
   "metadata": {},
   "source": [
    "# CSCK506 Deep Learning Group Project\n",
    "To train a *Convolutional Neural Network* (CNN) model to be able to detect healthy lungs from pneumonia infected ones."
   ]
  },
  {
   "attachments": {},
   "cell_type": "markdown",
   "metadata": {},
   "source": [
    "Table of Contents\n",
    "=================\n",
    "1. [Import Libraries](#Import-Libraries)\n",
    "2. [Data Preprocessing](#Data-Preprocessing)\n",
    "    1. [Load Data](#Load-Data)\n",
    "    2. [Understanding the Data](#Understanding-the-Data)\n",
    "    3. [Data Visualization](#Data-Visualization)\n",
    "    4. [Check for Imbalance Data](#Check-for-Imbalance-Data)\n",
    "    5. [Data Augmentation](#Data-Augmentation)\n",
    "    6. [Dataloader for Batching](#Dataloader-for-Batching)\n",
    " 3. [Model Development](#Model-Development)\n",
    "    1. [Build the CNN Model](#Build-the-CNN-Model)\n",
    "    2. [Train the CNN Model](#Train-the-CNN-Model)\n",
    "    3. [Evaluate the CNN Model](#Evaluate-the-CNN-Model)\n",
    "    4. [Save the CNN Model](#Save-the-CNN-Model)\n",
    " 4. [Model Testing](#Model-Testing)\n",
    "    1. [Load the CNN Model](#Load-the-CNN-Model)\n",
    "    2. [Test the CNN Model](#Test-the-CNN-Model)"
   ]
  },
  {
   "attachments": {},
   "cell_type": "markdown",
   "metadata": {},
   "source": [
    "## Import Libraries"
   ]
  },
  {
   "cell_type": "code",
   "execution_count": 1,
   "metadata": {},
   "outputs": [],
   "source": [
    "import os\n",
    "import hashlib\n",
    "import zipfile"
   ]
  },
  {
   "attachments": {},
   "cell_type": "markdown",
   "metadata": {},
   "source": [
    "## Data Preprocessing"
   ]
  },
  {
   "attachments": {},
   "cell_type": "markdown",
   "metadata": {},
   "source": [
    "### Unzip File into data folder\n",
    "- Download the dataset from [Kaggle](https://www.kaggle.com/paultimothymooney/chest-xray-pneumonia) and extract it to the same directory as this notebook.\n",
    "- To re-extract the dataset, delete the data folder and run the following code."
   ]
  },
  {
   "cell_type": "code",
   "execution_count": 2,
   "metadata": {},
   "outputs": [
    {
     "name": "stdout",
     "output_type": "stream",
     "text": [
      "Data folder already exists\n"
     ]
    }
   ],
   "source": [
    "if not os.path.exists('data'):\n",
    "    DATA_EXIST = False\n",
    "    os.makedirs('data')\n",
    "else:\n",
    "    DATA_EXIST = True\n",
    "    EXTRACT_FROM_ZIP = False\n",
    "    print('Data folder already exists')\n",
    "\n",
    "# Check if downloaded data is correct\n",
    "FILENAME = 'archive.zip'\n",
    "SHA256SUM ='f569fe885b0f921e836f3d6bcc8d7b3442f5e0ca4db4533d06b8cf25d2114ea1'\n",
    "\n",
    "if os.path.exists(FILENAME) and not DATA_EXIST:\n",
    "    with open(FILENAME, 'rb') as f:\n",
    "        read_bytes = f.read() # read entire file as bytes\n",
    "        READABLE_HASH = hashlib.sha256(read_bytes).hexdigest()\n",
    "        if READABLE_HASH != SHA256SUM:\n",
    "            print('Data corrupted, please download again')\n",
    "            os.remove(FILENAME)\n",
    "            EXTRACT_FROM_ZIP = False\n",
    "        else:\n",
    "            EXTRACT_FROM_ZIP = True # Ready to extract data from zip file\n",
    "\n",
    "folder_to_extract = ['chest_xray/test', 'chest_xray/train', 'chest_xray/val']\n",
    "\n",
    "# Extract data from zip file\n",
    "if not DATA_EXIST and EXTRACT_FROM_ZIP:\n",
    "    with zipfile.ZipFile(FILENAME, 'r') as zip_ref:\n",
    "        for fol in folder_to_extract:\n",
    "            for file in zip_ref.namelist():\n",
    "                if file.startswith(fol):\n",
    "                    zip_ref.extract(file, 'data')\n",
    "    for fol in folder_to_extract:\n",
    "        os.rename('data/'+fol, 'data/'+fol.split('/')[1])\n",
    "    os.rmdir('data/chest_xray')"
   ]
  },
  {
   "attachments": {},
   "cell_type": "markdown",
   "metadata": {},
   "source": [
    "### Understanding the Data"
   ]
  },
  {
   "cell_type": "code",
   "execution_count": null,
   "metadata": {},
   "outputs": [],
   "source": []
  },
  {
   "attachments": {},
   "cell_type": "markdown",
   "metadata": {},
   "source": [
    "### Data Visualization"
   ]
  },
  {
   "cell_type": "code",
   "execution_count": null,
   "metadata": {},
   "outputs": [],
   "source": []
  },
  {
   "attachments": {},
   "cell_type": "markdown",
   "metadata": {},
   "source": [
    "### Check for Imbalance Data"
   ]
  },
  {
   "cell_type": "code",
   "execution_count": null,
   "metadata": {},
   "outputs": [],
   "source": []
  },
  {
   "attachments": {},
   "cell_type": "markdown",
   "metadata": {},
   "source": [
    "### Data Augmentation\n",
    "Alter the training data with the following transformations:\n",
    "- Randomly rotate some training images by 10 degrees\n",
    "- Randomly resize and crop some training images\n",
    "\n",
    "The purpose of data augmentation is to increase the number of training data to improve the performance and ability of the model to generalize, invariant to the changes in the input data."
   ]
  },
  {
   "cell_type": "code",
   "execution_count": null,
   "metadata": {},
   "outputs": [],
   "source": []
  },
  {
   "attachments": {},
   "cell_type": "markdown",
   "metadata": {},
   "source": [
    "### Dataloader for Batching\n",
    "Load the data into batches of images and labels using PyTorch's DataLoader class."
   ]
  },
  {
   "cell_type": "code",
   "execution_count": null,
   "metadata": {},
   "outputs": [],
   "source": []
  },
  {
   "attachments": {},
   "cell_type": "markdown",
   "metadata": {},
   "source": [
    "## Model Development"
   ]
  },
  {
   "attachments": {},
   "cell_type": "markdown",
   "metadata": {},
   "source": [
    "### Build the CNN Model\n",
    "Use the training data to train the model with CNN which has the minimum loss and maximum accuracy for detecting the images with pneumonia."
   ]
  },
  {
   "cell_type": "code",
   "execution_count": null,
   "metadata": {},
   "outputs": [],
   "source": []
  },
  {
   "attachments": {},
   "cell_type": "markdown",
   "metadata": {},
   "source": [
    "### Train the CNN Model\n",
    "Choose:\n",
    "- Number of convolution-pooling building blocks,\n",
    "- The strides, padding and activation function that give you the maximum accuracy,\n",
    "- A solution to avoid overfitting problem in your code. --> Regularization"
   ]
  },
  {
   "cell_type": "code",
   "execution_count": null,
   "metadata": {},
   "outputs": [],
   "source": []
  },
  {
   "attachments": {},
   "cell_type": "markdown",
   "metadata": {},
   "source": [
    "### Evaluate and Tune the CNN Model\n",
    "Use validation dataset to tune the hyperparameters."
   ]
  },
  {
   "cell_type": "code",
   "execution_count": null,
   "metadata": {},
   "outputs": [],
   "source": []
  },
  {
   "attachments": {},
   "cell_type": "markdown",
   "metadata": {},
   "source": [
    "### Save the CNN Model"
   ]
  },
  {
   "cell_type": "code",
   "execution_count": null,
   "metadata": {},
   "outputs": [],
   "source": []
  },
  {
   "attachments": {},
   "cell_type": "markdown",
   "metadata": {},
   "source": [
    "## Model Testing"
   ]
  },
  {
   "attachments": {},
   "cell_type": "markdown",
   "metadata": {},
   "source": [
    "### Load the CNN Model"
   ]
  },
  {
   "cell_type": "code",
   "execution_count": null,
   "metadata": {},
   "outputs": [],
   "source": []
  },
  {
   "attachments": {},
   "cell_type": "markdown",
   "metadata": {},
   "source": [
    "### Test the CNN Model\n",
    "Use the test dataset after the final tuning to obtain the maximum test accuracy"
   ]
  },
  {
   "cell_type": "code",
   "execution_count": null,
   "metadata": {},
   "outputs": [],
   "source": []
  }
 ],
 "metadata": {
  "kernelspec": {
   "display_name": "base",
   "language": "python",
   "name": "python3"
  },
  "language_info": {
   "codemirror_mode": {
    "name": "ipython",
    "version": 3
   },
   "file_extension": ".py",
   "mimetype": "text/x-python",
   "name": "python",
   "nbconvert_exporter": "python",
   "pygments_lexer": "ipython3",
   "version": "3.10.10"
  },
  "orig_nbformat": 4
 },
 "nbformat": 4,
 "nbformat_minor": 2
}
